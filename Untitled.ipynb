{
 "cells": [
  {
   "cell_type": "code",
   "execution_count": 469,
   "id": "1f79ece3",
   "metadata": {},
   "outputs": [],
   "source": [
    "import numpy as np\n",
    "import pandas as pd\n",
    "\n",
    "class Perceptron:\n",
    "    def __init__(self):                           #Init for the perceptron class with weights val\n",
    "        self.weights_ = None\n",
    "    def fit(self,X,y):                            #Modle fit function\n",
    "        print(\"Fitting model...\")\n",
    "        self.weights_ = np. zeros(X.shape[1]+1)   #Setting the weights to be vactor of zeros\n",
    "        counter = 0\n",
    "        for j in range(1000):                     #1000 iterations max for good result and min time\n",
    "            for i in range(X.shape[0]):           #Number of rows\n",
    "                row = list(X[i])\n",
    "                row.append(1)                     #Adding 1 at the end for the \"b\" val\n",
    "                if np.dot(row,np.transpose(self.weights_))*y[i]<0 or  ((np.dot(row,np.transpose(self.weights_))*y[i]==0)and y[i]==-1):\n",
    "                    counter +=1\n",
    "                    self.weights_ = self.weights_ + np.multiply(row,y[i])\n",
    "            if counter == 0:\n",
    "                break\n",
    "            counter = 0\n",
    "            \n",
    "    def  predict(self,X):                         #Predict function\n",
    "        results = []\n",
    "        for i in range(X.shape[0]):\n",
    "            row = list(X[i])                      #Adding 1 at the end for the \"b\" val\n",
    "            row.append(1)\n",
    "            res = -1 if np.dot(row,np.transpose(self.weights_))<0 else 1\n",
    "            results.append(res)\n",
    "        return results\n",
    "    \n",
    "    def score (self,X,y):                         #Score function\n",
    "        results = self.predict(X)\n",
    "        counter = 0\n",
    "        for i in range(X.shape[0]):\n",
    "            if results[i] == y[i]:                #Counting succesful matches\n",
    "                counter +=1\n",
    "        return counter/X.shape[0]\n",
    "        \n",
    "       \n",
    "            \n"
   ]
  },
  {
   "cell_type": "code",
   "execution_count": 470,
   "id": "9495957d",
   "metadata": {},
   "outputs": [
    {
     "name": "stdout",
     "output_type": "stream",
     "text": [
      "Fitting model...\n",
      "The success percentage is: 1.0 \n",
      "The weights vector is: [2. 1. 0.]\n"
     ]
    }
   ],
   "source": [
    "p = Perceptron()\n",
    "features = np.array([[-2, -1], [0, 0],[2, 1],[1, 2],[-2, 2],[-3,0]])\n",
    "true_val = np.array([-1,1,1,1,-1,-1])\n",
    "modle = p.fit(features,true_val) #Model fit\n",
    "score = p.score(features,true_val)\n",
    "print(\"The success percentage is:\",score,\"\\nThe weights vector is:\",p.weights_)\n"
   ]
  },
  {
   "cell_type": "code",
   "execution_count": 474,
   "id": "88db833c",
   "metadata": {},
   "outputs": [
    {
     "name": "stdout",
     "output_type": "stream",
     "text": [
      "Fitting model...\n",
      "The test error percentage is: 0.07692307692307687 The train error is: 0.07692307692307687\n",
      "weights vector is:\n",
      " [-1.93133570e+04  1.29447400e+04 -6.16999900e+04 -1.23100000e+02\n",
      "  1.52175130e+02  1.54214163e+03  2.32337999e+03  9.79159785e+02\n",
      "  1.91681900e+02  2.01034900e+01 -3.87763200e+02 -2.00968740e+03\n",
      "  5.62236940e+03  1.30653070e+04  2.24109280e+01  3.41252056e+02\n",
      "  4.92572651e+02  1.16192632e+02  2.18587730e+01  3.33815710e+01\n",
      " -2.09384580e+04  3.58734800e+04 -3.50441000e+03  6.11240000e+03\n",
      "  4.39311800e+02  5.29479832e+03  6.68981608e+03  1.84647926e+03\n",
      "  7.11322700e+02  4.60619100e+02 -2.68400000e+03]\n"
     ]
    }
   ],
   "source": [
    "def zero_to_minus_one(val):\n",
    "    return -1 if val == 0 else 1\n",
    "df = pd.read_csv('Processed Wisconsin Diagnostic Breast Cancer.csv')\n",
    "df['diagnosis'] = df['diagnosis'].apply(zero_to_minus_one)\n",
    "df = df.sample(frac=1).reset_index(drop=True)     #Shuffling the data fram for undepend result\n",
    "num_of_rows = df.shape[0]\n",
    "\n",
    "df_train = df.iloc[:int(num_of_rows*0.8)]         #Taking 80% of the data for train dataframe\n",
    "df_test = df.iloc[int(num_of_rows*0.2):]          #Taking 20% of the data for test dataframe\n",
    "\n",
    "train_true_val = df_train['diagnosis'].values     #Creating an array of true classification\n",
    "df_train_to_send = df_train.drop('diagnosis',axis='columns')\n",
    "df_train_matrix = df_train_to_send.values         #Creating matrix of the dataframe values\n",
    "modle = p.fit(df_train_matrix,train_true_val)     #Model fit\n",
    "train_error_percantage = 1 - p.score(df_train_matrix,train_true_val)\n",
    "\n",
    "\n",
    "test_true_val = df_test['diagnosis'].values       #Creating an array of true classification\n",
    "df_test_to_send = df_test.drop('diagnosis',axis='columns')\n",
    "df_test_matrix = df_test_to_send.values           #Creating matrix of the dataframe values\n",
    "test_error_percantage = 1 - p.score(df_test_matrix,test_true_val)\n",
    "print(\"The test error percentage is:\",train_error_percantage,\"The train error is:\",train_error_percantage)\n",
    "print(\"weights vector is:\\n\",p.weights_)"
   ]
  },
  {
   "cell_type": "code",
   "execution_count": null,
   "id": "f81f6b99",
   "metadata": {},
   "outputs": [],
   "source": []
  }
 ],
 "metadata": {
  "kernelspec": {
   "display_name": "Python 3 (ipykernel)",
   "language": "python",
   "name": "python3"
  },
  "language_info": {
   "codemirror_mode": {
    "name": "ipython",
    "version": 3
   },
   "file_extension": ".py",
   "mimetype": "text/x-python",
   "name": "python",
   "nbconvert_exporter": "python",
   "pygments_lexer": "ipython3",
   "version": "3.9.13"
  }
 },
 "nbformat": 4,
 "nbformat_minor": 5
}
